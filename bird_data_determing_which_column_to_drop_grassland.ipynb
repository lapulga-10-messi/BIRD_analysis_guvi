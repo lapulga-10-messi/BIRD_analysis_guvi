{
 "cells": [
  {
   "cell_type": "code",
   "execution_count": 2,
   "id": "bdd84408",
   "metadata": {},
   "outputs": [],
   "source": [
    "import pandas as pd\n",
    "# Specify the file path\n",
    "file_path = r\"C:\\Users\\VAMSI\\Desktop\\project\\Bird_Monitoring_Data_GRASSLAND.XLSX\"\n",
    "\n",
    "# Read the Excel file with multiple sheets\n",
    "excel_data = pd.ExcelFile(file_path)\n",
    "\n",
    "# Get all sheet names\n",
    "sheet_names = excel_data.sheet_names\n",
    "\n",
    "# Read data from all sheets into a dictionary\n",
    "sheets_dict = {sheet: excel_data.parse(sheet) for sheet in sheet_names}"
   ]
  },
  {
   "cell_type": "code",
   "execution_count": 3,
   "id": "09655c73-17b0-4952-aa20-7d5ad3dbbc85",
   "metadata": {},
   "outputs": [],
   "source": [
    "list_of_keys = list(sheets_dict.keys())\n",
    "\n",
    "KEYS = [None] * len(sheets_dict.keys())\n",
    "i=0\n",
    "for each_dict in sheets_dict.keys() :\n",
    "    KEYS[i] = sheets_dict[each_dict]\n",
    "    i+=1\n"
   ]
  },
  {
   "cell_type": "code",
   "execution_count": 4,
   "id": "ef1ba0ca-a10e-412c-a9a0-95fd25c1ef5c",
   "metadata": {},
   "outputs": [],
   "source": [
    "#no of rows and columns in dataframe\n",
    "def total_rows(sheet_name):\n",
    "    total_rows = sheet_name.shape[0]\n",
    "    return total_rows\n",
    "def total_columns(sheet_name):  \n",
    "    total_columns = sheet_name.shape[1]\n",
    "    return total_columns"
   ]
  },
  {
   "cell_type": "code",
   "execution_count": 5,
   "id": "d0609565-061e-4d84-ae84-7042af393092",
   "metadata": {},
   "outputs": [],
   "source": [
    "def check_repeated_distinct_value_columns(sheet_name):\n",
    "    count_of_repeatedvalues=0\n",
    "    count_distinct=0   \n",
    "    for everycolumn in sheet_name.columns :\n",
    "        for i in range(total_rows(sheet_name)):\n",
    "            first_value =sheet_name[everycolumn].loc[0]\n",
    "            if first_value == sheet_name[everycolumn].loc[i]:\n",
    "                count_of_repeatedvalues+=1    \n",
    "        if count_of_repeatedvalues == total_rows(sheet_name):\n",
    "           print(\"repeated values in :\",everycolumn)\n",
    "            \n",
    "        \n",
    "        if sheet_name[everycolumn].nunique() == len(sheet_name[everycolumn]):\n",
    "            print(everycolumn , \"has distinct values\")\n",
    "        else :\n",
    "            count_distinct+=1\n",
    "            if count_distinct==29:\n",
    "               print(\"None of the columns have distinct values\")\n",
    "\n",
    "def check_null_values(sheet_name):\n",
    "    for everycolumn in sheet_name.columns :\n",
    "      is_null = sheet_name[everycolumn].isnull().any()\n",
    "      if  is_null == True:\n",
    "            print(f\"Column '{everycolumn}' has {sheet_name[everycolumn].isnull().sum()} null values\")"
   ]
  },
  {
   "cell_type": "code",
   "execution_count": 6,
   "id": "32784e75-fdad-438c-9e70-a60cc9f45324",
   "metadata": {},
   "outputs": [
    {
     "name": "stdout",
     "output_type": "stream",
     "text": [
      "sheet ANTI\n",
      "\n",
      "total_rows_in_this_sheet: 3588\n",
      "total_columns_in_this_sheet: 29\n",
      "\n",
      "repeated values in : Admin_Unit_Code\n",
      "repeated values in : Sub_Unit_Code\n",
      "None of the columns have distinct values\n",
      "Column 'Sub_Unit_Code' has 3588 null values\n",
      "Column 'ID_Method' has 1 null values\n",
      "Column 'Distance' has 330 null values\n",
      "Column 'AcceptedTSN' has 20 null values\n",
      "Column 'TaxonCode' has 1 null values\n",
      "\n",
      "sheet CATO\n",
      "\n",
      "total_rows_in_this_sheet: 0\n",
      "total_columns_in_this_sheet: 29\n",
      "\n",
      "\n",
      "sheet CHOH\n",
      "\n",
      "total_rows_in_this_sheet: 0\n",
      "total_columns_in_this_sheet: 29\n",
      "\n",
      "\n",
      "sheet GWMP\n",
      "\n",
      "total_rows_in_this_sheet: 0\n",
      "total_columns_in_this_sheet: 29\n",
      "\n",
      "\n",
      "sheet HAFE\n",
      "\n",
      "total_rows_in_this_sheet: 117\n",
      "total_columns_in_this_sheet: 29\n",
      "\n",
      "repeated values in : Admin_Unit_Code\n",
      "repeated values in : Sub_Unit_Code\n",
      "None of the columns have distinct values\n",
      "Column 'Sub_Unit_Code' has 117 null values\n",
      "Column 'Distance' has 15 null values\n",
      "Column 'AcceptedTSN' has 1 null values\n",
      "\n",
      "sheet MANA\n",
      "\n",
      "total_rows_in_this_sheet: 1811\n",
      "total_columns_in_this_sheet: 29\n",
      "\n",
      "repeated values in : Admin_Unit_Code\n",
      "repeated values in : Sub_Unit_Code\n",
      "None of the columns have distinct values\n",
      "Column 'Sub_Unit_Code' has 1811 null values\n",
      "Column 'Distance' has 371 null values\n",
      "\n",
      "sheet MONO\n",
      "\n",
      "total_rows_in_this_sheet: 3015\n",
      "total_columns_in_this_sheet: 29\n",
      "\n",
      "repeated values in : Admin_Unit_Code\n",
      "repeated values in : Sub_Unit_Code\n",
      "None of the columns have distinct values\n",
      "Column 'Sub_Unit_Code' has 3015 null values\n",
      "Column 'Distance' has 678 null values\n",
      "Column 'AcceptedTSN' has 3 null values\n",
      "Column 'TaxonCode' has 1 null values\n",
      "\n",
      "sheet NACE\n",
      "\n",
      "total_rows_in_this_sheet: 0\n",
      "total_columns_in_this_sheet: 29\n",
      "\n",
      "\n",
      "sheet PRWI\n",
      "\n",
      "total_rows_in_this_sheet: 0\n",
      "total_columns_in_this_sheet: 29\n",
      "\n",
      "\n",
      "sheet ROCR\n",
      "\n",
      "total_rows_in_this_sheet: 0\n",
      "total_columns_in_this_sheet: 29\n",
      "\n",
      "\n",
      "sheet WOTR\n",
      "\n",
      "total_rows_in_this_sheet: 0\n",
      "total_columns_in_this_sheet: 29\n",
      "\n",
      "\n"
     ]
    }
   ],
   "source": [
    "if __name__ == \"__main__\": \n",
    "    for j in range(11):\n",
    "        print(\"sheet\",list_of_keys[j])\n",
    "        print(\"\")\n",
    "        print(\"total_rows_in_this_sheet:\",total_rows(KEYS[j]))\n",
    "        print(\"total_columns_in_this_sheet:\",total_columns(KEYS[j]))\n",
    "        print(\"\")\n",
    "        if total_rows(KEYS[j]) != 0 :\n",
    "            check_repeated_distinct_value_columns(KEYS[j])\n",
    "            check_null_values(KEYS[j])\n",
    "        print(\"\")"
   ]
  },
  {
   "cell_type": "code",
   "execution_count": 36,
   "id": "9ce3d9f2",
   "metadata": {},
   "outputs": [
    {
     "data": {
      "text/plain": [
       "863"
      ]
     },
     "execution_count": 36,
     "metadata": {},
     "output_type": "execute_result"
    }
   ],
   "source": [
    "no_of_dupes=KEYS[6].duplicated().sum()\n",
    "no_of_dupes"
   ]
  }
 ],
 "metadata": {
  "kernelspec": {
   "display_name": "base",
   "language": "python",
   "name": "python3"
  },
  "language_info": {
   "codemirror_mode": {
    "name": "ipython",
    "version": 3
   },
   "file_extension": ".py",
   "mimetype": "text/x-python",
   "name": "python",
   "nbconvert_exporter": "python",
   "pygments_lexer": "ipython3",
   "version": "3.12.7"
  }
 },
 "nbformat": 4,
 "nbformat_minor": 5
}
