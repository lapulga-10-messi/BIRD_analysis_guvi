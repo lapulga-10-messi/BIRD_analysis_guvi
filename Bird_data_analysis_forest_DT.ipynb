{
 "cells": [
  {
   "cell_type": "code",
   "execution_count": 22,
   "id": "676433de-668c-4053-93db-f8d165b8ec7a",
   "metadata": {},
   "outputs": [],
   "source": [
    "import pandas as pd\n",
    "# Specify the file path\n",
    "file_path = r\"C:\\Users\\VAMSI\\Desktop\\project\\Bird_Monitoring_Data_FOREST.XLSX\"\n",
    "\n",
    "# Read the Excel file with multiple sheets\n",
    "excel_data = pd.ExcelFile(file_path)\n",
    "\n",
    "# Get all sheet names\n",
    "sheet_names_FOREST = excel_data.sheet_names\n",
    "\n",
    "# Read data from all sheets into a dictionary\n",
    "sheets_dict = {sheet: excel_data.parse(sheet) for sheet in sheet_names_FOREST}\n",
    "\n",
    "# Example: Convert sheets_dict to a single DataFrame; this will add a new sheet column at the last.\n",
    "combined_df = pd.concat(\n",
    "    [df.assign(Sheet=sheet_name) for sheet_name, df in sheets_dict.items()],\n",
    "    ignore_index=True\n",
    ")\n",
    "\n",
    "# later u can Drop the 'Sheet' column\n",
    "combined_df = combined_df.drop(columns=['Sheet'])"
   ]
  },
  {
   "cell_type": "code",
   "execution_count": 23,
   "id": "2a2c4d84-eb34-4998-976a-41a3195324f5",
   "metadata": {},
   "outputs": [],
   "source": [
    "# dropping the 'Sub_Unit_Code' column\n",
    "if 'Sub_Unit_Code' in combined_df.columns:\n",
    "    combined_df.drop(columns=['Sub_Unit_Code'], inplace=True)"
   ]
  },
  {
   "cell_type": "code",
   "execution_count": 24,
   "id": "e43e7510-86aa-4eb9-8c11-d2204c90e0c8",
   "metadata": {},
   "outputs": [],
   "source": [
    "# # dropping the 'sex' column\n",
    "# if 'Sex' in combined_df.columns:\n",
    "#     combined_df.drop(columns=['Sex'], inplace=True)"
   ]
  },
  {
   "cell_type": "code",
   "execution_count": 25,
   "id": "5f6dbb06-4f9c-46ba-a053-7097dd2b272f",
   "metadata": {},
   "outputs": [],
   "source": [
    "# calculating the mode for 'ID_Method'\n",
    "mode_of_singing_method = combined_df['ID_Method'].mode()[0]\n",
    "\n",
    "# Filling NaN values with the mode\n",
    "combined_df['ID_Method'] = combined_df['ID_Method'].fillna(mode_of_singing_method)"
   ]
  },
  {
   "cell_type": "code",
   "execution_count": 26,
   "id": "3796de2d-7415-452e-b33b-774c216b4fb2",
   "metadata": {},
   "outputs": [],
   "source": [
    "# calculating the mode 'Distance']\n",
    "fill_data_distance = combined_df['Distance'].mode()[0]\n",
    "\n",
    "# Filling NaN values with the mode\n",
    "combined_df['Distance'] = combined_df['Distance'].fillna(fill_data_distance)\n",
    "\n",
    "# Remove spaces and alphabets next\n",
    "combined_df['Distance'] = combined_df['Distance'].replace(r'\\s+', '', regex=True)  \n",
    "combined_df['Distance'] = combined_df['Distance'].replace(r'[a-zA-Z]', '', regex=True)"
   ]
  },
  {
   "cell_type": "code",
   "execution_count": 27,
   "id": "9c591c84-9edd-47c5-998d-4f651f5e203c",
   "metadata": {},
   "outputs": [],
   "source": [
    "# total_rows =combined_df.shape[0]\n",
    "# print(total_rows) #8546\n",
    "  "
   ]
  },
  {
   "cell_type": "code",
   "execution_count": 28,
   "id": "44b0e8d5-0b2a-46d3-bd78-0a2f1e058bfd",
   "metadata": {
    "collapsed": true,
    "jupyter": {
     "outputs_hidden": true
    }
   },
   "outputs": [
    {
     "name": "stdout",
     "output_type": "stream",
     "text": [
      "<class 'pandas.core.frame.DataFrame'>\n",
      "RangeIndex: 8546 entries, 0 to 8545\n",
      "Data columns (total 28 columns):\n",
      " #   Column                       Non-Null Count  Dtype         \n",
      "---  ------                       --------------  -----         \n",
      " 0   Admin_Unit_Code              8546 non-null   object        \n",
      " 1   Site_Name                    8546 non-null   object        \n",
      " 2   Plot_Name                    8546 non-null   object        \n",
      " 3   Location_Type                8546 non-null   object        \n",
      " 4   Year                         8546 non-null   int64         \n",
      " 5   Date                         8546 non-null   datetime64[ns]\n",
      " 6   Start_Time                   8546 non-null   object        \n",
      " 7   End_Time                     8546 non-null   object        \n",
      " 8   Observer                     8546 non-null   object        \n",
      " 9   Visit                        8546 non-null   int64         \n",
      " 10  Interval_Length              8546 non-null   object        \n",
      " 11  ID_Method                    8546 non-null   object        \n",
      " 12  Distance                     8546 non-null   object        \n",
      " 13  Flyover_Observed             8546 non-null   bool          \n",
      " 14  Sex                          3363 non-null   object        \n",
      " 15  Common_Name                  8546 non-null   object        \n",
      " 16  Scientific_Name              8546 non-null   object        \n",
      " 17  AcceptedTSN                  8537 non-null   float64       \n",
      " 18  NPSTaxonCode                 8546 non-null   int64         \n",
      " 19  AOU_Code                     8546 non-null   object        \n",
      " 20  PIF_Watchlist_Status         8546 non-null   bool          \n",
      " 21  Regional_Stewardship_Status  8546 non-null   bool          \n",
      " 22  Temperature                  8546 non-null   float64       \n",
      " 23  Humidity                     8546 non-null   float64       \n",
      " 24  Sky                          8546 non-null   object        \n",
      " 25  Wind                         8546 non-null   object        \n",
      " 26  Disturbance                  8546 non-null   object        \n",
      " 27  Initial_Three_Min_Cnt        8546 non-null   bool          \n",
      "dtypes: bool(4), datetime64[ns](1), float64(3), int64(3), object(17)\n",
      "memory usage: 1.6+ MB\n"
     ]
    }
   ],
   "source": [
    "combined_df.info()\n"
   ]
  },
  {
   "cell_type": "code",
   "execution_count": 29,
   "id": "1b98af1d",
   "metadata": {},
   "outputs": [],
   "source": [
    "combined_df['Date'] = pd.to_datetime(combined_df['Date'], errors='coerce')"
   ]
  },
  {
   "cell_type": "code",
   "execution_count": 30,
   "id": "32a023e8",
   "metadata": {},
   "outputs": [],
   "source": [
    "def get_season(month):\n",
    "    if 3 <= month <= 5:\n",
    "        return 'Spring'\n",
    "    elif 6 <= month <= 8:\n",
    "        return 'Summer'\n",
    "    elif 9 <= month <= 11:\n",
    "        return 'Autumn'\n",
    "    else:\n",
    "        return 'Winter'\n",
    "\n",
    "# Apply the function to the datetime column\n",
    "combined_df['Season'] = combined_df['Date'].dt.month.apply(get_season)"
   ]
  },
  {
   "cell_type": "code",
   "execution_count": 31,
   "id": "febce3b5",
   "metadata": {},
   "outputs": [
    {
     "name": "stdout",
     "output_type": "stream",
     "text": [
      "<class 'pandas.core.frame.DataFrame'>\n",
      "RangeIndex: 8546 entries, 0 to 8545\n",
      "Data columns (total 29 columns):\n",
      " #   Column                       Non-Null Count  Dtype         \n",
      "---  ------                       --------------  -----         \n",
      " 0   Admin_Unit_Code              8546 non-null   object        \n",
      " 1   Site_Name                    8546 non-null   object        \n",
      " 2   Plot_Name                    8546 non-null   object        \n",
      " 3   Location_Type                8546 non-null   object        \n",
      " 4   Year                         8546 non-null   int64         \n",
      " 5   Date                         8546 non-null   datetime64[ns]\n",
      " 6   Start_Time                   8546 non-null   object        \n",
      " 7   End_Time                     8546 non-null   object        \n",
      " 8   Observer                     8546 non-null   object        \n",
      " 9   Visit                        8546 non-null   int64         \n",
      " 10  Interval_Length              8546 non-null   object        \n",
      " 11  ID_Method                    8546 non-null   object        \n",
      " 12  Distance                     8546 non-null   object        \n",
      " 13  Flyover_Observed             8546 non-null   bool          \n",
      " 14  Sex                          3363 non-null   object        \n",
      " 15  Common_Name                  8546 non-null   object        \n",
      " 16  Scientific_Name              8546 non-null   object        \n",
      " 17  AcceptedTSN                  8537 non-null   float64       \n",
      " 18  NPSTaxonCode                 8546 non-null   int64         \n",
      " 19  AOU_Code                     8546 non-null   object        \n",
      " 20  PIF_Watchlist_Status         8546 non-null   bool          \n",
      " 21  Regional_Stewardship_Status  8546 non-null   bool          \n",
      " 22  Temperature                  8546 non-null   float64       \n",
      " 23  Humidity                     8546 non-null   float64       \n",
      " 24  Sky                          8546 non-null   object        \n",
      " 25  Wind                         8546 non-null   object        \n",
      " 26  Disturbance                  8546 non-null   object        \n",
      " 27  Initial_Three_Min_Cnt        8546 non-null   bool          \n",
      " 28  Season                       8546 non-null   object        \n",
      "dtypes: bool(4), datetime64[ns](1), float64(3), int64(3), object(18)\n",
      "memory usage: 1.7+ MB\n"
     ]
    }
   ],
   "source": [
    "combined_df.info()"
   ]
  },
  {
   "cell_type": "code",
   "execution_count": 32,
   "id": "c3b7e2e8-45e8-44b4-9a96-c7bbf6cec792",
   "metadata": {},
   "outputs": [],
   "source": [
    "# filling the AcceptedTSN with 997805 and changing all float datatypes to int \n",
    "combined_df['AcceptedTSN'] = combined_df['AcceptedTSN'].fillna(997805)\n",
    "combined_df['AcceptedTSN'] = combined_df['AcceptedTSN'].round(0).astype(int)\n",
    "#combined_forest_df[\"Temperature\"]=combined_forest_df[\"Temperature\"].round(0).astype(int)\n",
    "#combined_forest_df[\"Humidity\"]=combined_forest_df[\"Humidity\"].round(0).astype(int)"
   ]
  },
  {
   "cell_type": "code",
   "execution_count": 33,
   "id": "dc618c6d-e7a7-4dd8-855d-f2af8a534020",
   "metadata": {},
   "outputs": [
    {
     "data": {
      "text/plain": [
       "Sex\n",
       "Undetermined    3304\n",
       "Male              59\n",
       "Name: count, dtype: int64"
      ]
     },
     "execution_count": 33,
     "metadata": {},
     "output_type": "execute_result"
    }
   ],
   "source": [
    "count_of_gender= combined_df['Sex'].value_counts()\n",
    "count_of_gender"
   ]
  },
  {
   "cell_type": "code",
   "execution_count": 34,
   "id": "3e2416d2-0059-4853-a457-8800d0ed0d95",
   "metadata": {
    "collapsed": true,
    "jupyter": {
     "outputs_hidden": true
    }
   },
   "outputs": [
    {
     "name": "stdout",
     "output_type": "stream",
     "text": [
      "<class 'pandas.core.frame.DataFrame'>\n",
      "RangeIndex: 8546 entries, 0 to 8545\n",
      "Data columns (total 29 columns):\n",
      " #   Column                       Non-Null Count  Dtype         \n",
      "---  ------                       --------------  -----         \n",
      " 0   Admin_Unit_Code              8546 non-null   object        \n",
      " 1   Site_Name                    8546 non-null   object        \n",
      " 2   Plot_Name                    8546 non-null   object        \n",
      " 3   Location_Type                8546 non-null   object        \n",
      " 4   Year                         8546 non-null   int64         \n",
      " 5   Date                         8546 non-null   datetime64[ns]\n",
      " 6   Start_Time                   8546 non-null   object        \n",
      " 7   End_Time                     8546 non-null   object        \n",
      " 8   Observer                     8546 non-null   object        \n",
      " 9   Visit                        8546 non-null   int64         \n",
      " 10  Interval_Length              8546 non-null   object        \n",
      " 11  ID_Method                    8546 non-null   object        \n",
      " 12  Distance                     8546 non-null   object        \n",
      " 13  Flyover_Observed             8546 non-null   bool          \n",
      " 14  Sex                          8546 non-null   object        \n",
      " 15  Common_Name                  8546 non-null   object        \n",
      " 16  Scientific_Name              8546 non-null   object        \n",
      " 17  AcceptedTSN                  8546 non-null   int32         \n",
      " 18  NPSTaxonCode                 8546 non-null   int64         \n",
      " 19  AOU_Code                     8546 non-null   object        \n",
      " 20  PIF_Watchlist_Status         8546 non-null   bool          \n",
      " 21  Regional_Stewardship_Status  8546 non-null   bool          \n",
      " 22  Temperature                  8546 non-null   float64       \n",
      " 23  Humidity                     8546 non-null   float64       \n",
      " 24  Sky                          8546 non-null   object        \n",
      " 25  Wind                         8546 non-null   object        \n",
      " 26  Disturbance                  8546 non-null   object        \n",
      " 27  Initial_Three_Min_Cnt        8546 non-null   bool          \n",
      " 28  Season                       8546 non-null   object        \n",
      "dtypes: bool(4), datetime64[ns](1), float64(2), int32(1), int64(3), object(18)\n",
      "memory usage: 1.6+ MB\n"
     ]
    }
   ],
   "source": [
    "# filling sex with undetermined for missing values\n",
    "combined_df['Sex']=combined_df['Sex'].fillna('Unknown')\n",
    "combined_df.info()"
   ]
  },
  {
   "cell_type": "code",
   "execution_count": 35,
   "id": "c9af927f-ff2d-4d58-874a-6ecc45f8365d",
   "metadata": {},
   "outputs": [
    {
     "data": {
      "text/plain": [
       "0"
      ]
     },
     "execution_count": 35,
     "metadata": {},
     "output_type": "execute_result"
    }
   ],
   "source": [
    "#check for duplicates and print the total dupes\n",
    "no_of_dupes=combined_df.duplicated().sum()\n",
    "no_of_dupes"
   ]
  },
  {
   "cell_type": "code",
   "execution_count": 37,
   "id": "f2308178-96e9-4119-87fc-37a43931ddfa",
   "metadata": {},
   "outputs": [],
   "source": [
    "# writing the cleaned dataframe into csv file\n",
    "combined_df.to_csv(\"_Cleaned_Forest_df.csv\",index=False)"
   ]
  }
 ],
 "metadata": {
  "kernelspec": {
   "display_name": "base",
   "language": "python",
   "name": "python3"
  },
  "language_info": {
   "codemirror_mode": {
    "name": "ipython",
    "version": 3
   },
   "file_extension": ".py",
   "mimetype": "text/x-python",
   "name": "python",
   "nbconvert_exporter": "python",
   "pygments_lexer": "ipython3",
   "version": "3.12.7"
  }
 },
 "nbformat": 4,
 "nbformat_minor": 5
}
