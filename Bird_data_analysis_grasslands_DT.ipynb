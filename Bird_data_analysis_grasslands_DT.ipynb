{
 "cells": [
  {
   "cell_type": "code",
   "execution_count": 1,
   "id": "d84cfd3b",
   "metadata": {},
   "outputs": [],
   "source": [
    "import pandas as pd\n",
    "\n",
    "# Specify the file path\n",
    "file_path = r\"C:\\Users\\VAMSI\\Desktop\\project\\Bird_Monitoring_Data_GRASSLAND.XLSX\"\n",
    "\n",
    "# Read the Excel file with multiple sheets\n",
    "excel_data = pd.ExcelFile(file_path)\n",
    "\n",
    "# Get all sheet names\n",
    "sheet_names_GRASSLAND = excel_data.sheet_names\n",
    "\n",
    "# Read data from all sheets into a dictionary\n",
    "sheets_dict_grass = {}\n",
    "for sheet in sheet_names_GRASSLAND:\n",
    "    df = excel_data.parse(sheet)\n",
    "    # Drop completely empty columns before processing\n",
    "    df = df.dropna(axis=1, how='all')\n",
    "    sheets_dict_grass[sheet] = df\n",
    "\n",
    "# Combine all sheets into one DataFrame\n",
    "combined_df_grass = pd.concat(\n",
    "    [df.assign(Sheet=sheet_name) for sheet_name, df in sheets_dict_grass.items()],\n",
    "    ignore_index=True\n",
    ")\n",
    "\n",
    "# Drop the 'Sheet' column if you don't need it\n",
    "combined_df_GRASSLAND = combined_df_grass.drop(columns=['Sheet'])\n"
   ]
  },
  {
   "cell_type": "code",
   "execution_count": 2,
   "id": "6226ea7d",
   "metadata": {},
   "outputs": [
    {
     "name": "stdout",
     "output_type": "stream",
     "text": [
      "<class 'pandas.core.frame.DataFrame'>\n",
      "RangeIndex: 8531 entries, 0 to 8530\n",
      "Data columns (total 28 columns):\n",
      " #   Column                       Non-Null Count  Dtype         \n",
      "---  ------                       --------------  -----         \n",
      " 0   Admin_Unit_Code              8531 non-null   object        \n",
      " 1   Plot_Name                    8531 non-null   object        \n",
      " 2   Location_Type                8531 non-null   object        \n",
      " 3   Year                         8531 non-null   float64       \n",
      " 4   Date                         8531 non-null   datetime64[ns]\n",
      " 5   Start_Time                   8531 non-null   object        \n",
      " 6   End_Time                     8531 non-null   object        \n",
      " 7   Observer                     8531 non-null   object        \n",
      " 8   Visit                        8531 non-null   float64       \n",
      " 9   Interval_Length              8531 non-null   object        \n",
      " 10  ID_Method                    8530 non-null   object        \n",
      " 11  Distance                     7137 non-null   object        \n",
      " 12  Flyover_Observed             8531 non-null   object        \n",
      " 13  Sex                          8531 non-null   object        \n",
      " 14  Common_Name                  8531 non-null   object        \n",
      " 15  Scientific_Name              8531 non-null   object        \n",
      " 16  AcceptedTSN                  8507 non-null   float64       \n",
      " 17  TaxonCode                    8529 non-null   float64       \n",
      " 18  AOU_Code                     8531 non-null   object        \n",
      " 19  PIF_Watchlist_Status         8531 non-null   object        \n",
      " 20  Regional_Stewardship_Status  8531 non-null   object        \n",
      " 21  Temperature                  8531 non-null   float64       \n",
      " 22  Humidity                     8531 non-null   float64       \n",
      " 23  Sky                          8531 non-null   object        \n",
      " 24  Wind                         8531 non-null   object        \n",
      " 25  Disturbance                  8531 non-null   object        \n",
      " 26  Previously_Obs               8531 non-null   object        \n",
      " 27  Initial_Three_Min_Cnt        8531 non-null   object        \n",
      "dtypes: datetime64[ns](1), float64(6), object(21)\n",
      "memory usage: 1.8+ MB\n"
     ]
    }
   ],
   "source": [
    "combined_df_GRASSLAND.info()"
   ]
  },
  {
   "cell_type": "code",
   "execution_count": 3,
   "id": "70f3f219",
   "metadata": {},
   "outputs": [],
   "source": [
    "combined_df_GRASSLAND ['Date'] = pd.to_datetime(combined_df_GRASSLAND ['Date'], errors='coerce')\n",
    "\n",
    "def get_season(month):\n",
    "    if 3 <= month <= 5:\n",
    "        return 'Spring'\n",
    "    elif 6 <= month <= 8:\n",
    "        return 'Summer'\n",
    "    elif 9 <= month <= 11:\n",
    "        return 'Autumn'\n",
    "    else:\n",
    "        return 'Winter'\n",
    "\n",
    "# Apply the function to the datetime column\n",
    "combined_df_GRASSLAND ['Season'] = combined_df_GRASSLAND ['Date'].dt.month.apply(get_season)"
   ]
  },
  {
   "cell_type": "code",
   "execution_count": 4,
   "id": "158b666e",
   "metadata": {},
   "outputs": [],
   "source": [
    "#changing data type of visit and year from float to int\n",
    "combined_df_GRASSLAND['Visit'] = combined_df_GRASSLAND['Visit'].round(0).astype(int)"
   ]
  },
  {
   "cell_type": "code",
   "execution_count": 5,
   "id": "d31690f1",
   "metadata": {},
   "outputs": [
    {
     "data": {
      "text/plain": [
       "1705"
      ]
     },
     "execution_count": 5,
     "metadata": {},
     "output_type": "execute_result"
    }
   ],
   "source": [
    "#check for duplicates and print the total dupes\n",
    "no_of_dupes=combined_df_GRASSLAND.duplicated().sum()\n",
    "no_of_dupes"
   ]
  },
  {
   "cell_type": "code",
   "execution_count": 6,
   "id": "89a47541",
   "metadata": {},
   "outputs": [],
   "source": [
    "combined_df_GRASSLAND = combined_df_GRASSLAND.drop_duplicates()"
   ]
  },
  {
   "cell_type": "code",
   "execution_count": 7,
   "id": "ed290711",
   "metadata": {},
   "outputs": [
    {
     "name": "stdout",
     "output_type": "stream",
     "text": [
      "<class 'pandas.core.frame.DataFrame'>\n",
      "Index: 6826 entries, 0 to 8521\n",
      "Data columns (total 29 columns):\n",
      " #   Column                       Non-Null Count  Dtype         \n",
      "---  ------                       --------------  -----         \n",
      " 0   Admin_Unit_Code              6826 non-null   object        \n",
      " 1   Plot_Name                    6826 non-null   object        \n",
      " 2   Location_Type                6826 non-null   object        \n",
      " 3   Year                         6826 non-null   float64       \n",
      " 4   Date                         6826 non-null   datetime64[ns]\n",
      " 5   Start_Time                   6826 non-null   object        \n",
      " 6   End_Time                     6826 non-null   object        \n",
      " 7   Observer                     6826 non-null   object        \n",
      " 8   Visit                        6826 non-null   int32         \n",
      " 9   Interval_Length              6826 non-null   object        \n",
      " 10  ID_Method                    6825 non-null   object        \n",
      " 11  Distance                     6229 non-null   object        \n",
      " 12  Flyover_Observed             6826 non-null   object        \n",
      " 13  Sex                          6826 non-null   object        \n",
      " 14  Common_Name                  6826 non-null   object        \n",
      " 15  Scientific_Name              6826 non-null   object        \n",
      " 16  AcceptedTSN                  6807 non-null   float64       \n",
      " 17  TaxonCode                    6824 non-null   float64       \n",
      " 18  AOU_Code                     6826 non-null   object        \n",
      " 19  PIF_Watchlist_Status         6826 non-null   object        \n",
      " 20  Regional_Stewardship_Status  6826 non-null   object        \n",
      " 21  Temperature                  6826 non-null   float64       \n",
      " 22  Humidity                     6826 non-null   float64       \n",
      " 23  Sky                          6826 non-null   object        \n",
      " 24  Wind                         6826 non-null   object        \n",
      " 25  Disturbance                  6826 non-null   object        \n",
      " 26  Previously_Obs               6826 non-null   object        \n",
      " 27  Initial_Three_Min_Cnt        6826 non-null   object        \n",
      " 28  Season                       6826 non-null   object        \n",
      "dtypes: datetime64[ns](1), float64(5), int32(1), object(22)\n",
      "memory usage: 1.5+ MB\n"
     ]
    }
   ],
   "source": [
    "combined_df_GRASSLAND.info()"
   ]
  },
  {
   "cell_type": "code",
   "execution_count": 8,
   "id": "73c9d97a",
   "metadata": {},
   "outputs": [],
   "source": [
    "#filling the null value of id method with mode of 'ID_Method ' column\n",
    "combined_df_GRASSLAND['ID_Method']= combined_df_GRASSLAND['ID_Method'].fillna(combined_df_GRASSLAND['ID_Method'].mode()[0])"
   ]
  },
  {
   "cell_type": "code",
   "execution_count": 9,
   "id": "b1c7eee0",
   "metadata": {},
   "outputs": [],
   "source": [
    "#filling the null value of distance with mode of 'distance' column based on proportions\n",
    "import numpy as np\n",
    "\n",
    "# Step 1: Get frequency distribution of non-null values\n",
    "value_counts = combined_df_GRASSLAND['Distance'].value_counts(normalize=True)  # Gets probabilities\n",
    "\n",
    "# Step 2: Randomly sample missing values based on their likelihood\n",
    "null_mask = combined_df_GRASSLAND['Distance'].isna()\n",
    "combined_df_GRASSLAND.loc[null_mask, 'Distance'] = np.random.choice(\n",
    "    value_counts.index, \n",
    "    size=null_mask.sum(), \n",
    "    p=value_counts.values\n",
    ")"
   ]
  },
  {
   "cell_type": "code",
   "execution_count": 10,
   "id": "0c3dfb8e",
   "metadata": {},
   "outputs": [],
   "source": [
    "# Remove spaces and alphabets next\n",
    "combined_df_GRASSLAND['Distance'] = combined_df_GRASSLAND['Distance'].replace(r'\\s+', '', regex=True)  \n",
    "combined_df_GRASSLAND['Distance'] = combined_df_GRASSLAND['Distance'].replace(r'[a-zA-Z]', '', regex=True)"
   ]
  },
  {
   "cell_type": "code",
   "execution_count": 11,
   "id": "35fa3ac3",
   "metadata": {},
   "outputs": [
    {
     "name": "stdout",
     "output_type": "stream",
     "text": [
      "<class 'pandas.core.frame.DataFrame'>\n",
      "Index: 6826 entries, 0 to 8521\n",
      "Data columns (total 29 columns):\n",
      " #   Column                       Non-Null Count  Dtype         \n",
      "---  ------                       --------------  -----         \n",
      " 0   Admin_Unit_Code              6826 non-null   object        \n",
      " 1   Plot_Name                    6826 non-null   object        \n",
      " 2   Location_Type                6826 non-null   object        \n",
      " 3   Year                         6826 non-null   float64       \n",
      " 4   Date                         6826 non-null   datetime64[ns]\n",
      " 5   Start_Time                   6826 non-null   object        \n",
      " 6   End_Time                     6826 non-null   object        \n",
      " 7   Observer                     6826 non-null   object        \n",
      " 8   Visit                        6826 non-null   int32         \n",
      " 9   Interval_Length              6826 non-null   object        \n",
      " 10  ID_Method                    6826 non-null   object        \n",
      " 11  Distance                     6826 non-null   object        \n",
      " 12  Flyover_Observed             6826 non-null   object        \n",
      " 13  Sex                          6826 non-null   object        \n",
      " 14  Common_Name                  6826 non-null   object        \n",
      " 15  Scientific_Name              6826 non-null   object        \n",
      " 16  AcceptedTSN                  6807 non-null   float64       \n",
      " 17  TaxonCode                    6824 non-null   float64       \n",
      " 18  AOU_Code                     6826 non-null   object        \n",
      " 19  PIF_Watchlist_Status         6826 non-null   object        \n",
      " 20  Regional_Stewardship_Status  6826 non-null   object        \n",
      " 21  Temperature                  6826 non-null   float64       \n",
      " 22  Humidity                     6826 non-null   float64       \n",
      " 23  Sky                          6826 non-null   object        \n",
      " 24  Wind                         6826 non-null   object        \n",
      " 25  Disturbance                  6826 non-null   object        \n",
      " 26  Previously_Obs               6826 non-null   object        \n",
      " 27  Initial_Three_Min_Cnt        6826 non-null   object        \n",
      " 28  Season                       6826 non-null   object        \n",
      "dtypes: datetime64[ns](1), float64(5), int32(1), object(22)\n",
      "memory usage: 1.5+ MB\n"
     ]
    }
   ],
   "source": [
    "combined_df_GRASSLAND.info()"
   ]
  },
  {
   "cell_type": "code",
   "execution_count": 12,
   "id": "6397a661",
   "metadata": {},
   "outputs": [
    {
     "name": "stdout",
     "output_type": "stream",
     "text": [
      "106\n",
      "107\n",
      "105\n",
      "107\n"
     ]
    }
   ],
   "source": [
    "number_0f_unique_AcceptedTSN =combined_df_GRASSLAND['AcceptedTSN'].nunique()\n",
    "print(number_0f_unique_AcceptedTSN)\n",
    "\n",
    "number_0f_unique_Scientific_Name =combined_df_GRASSLAND['Scientific_Name'].nunique()\n",
    "print(number_0f_unique_Scientific_Name)\n",
    "\n",
    "number_0f_unique_TaxonCode  =combined_df_GRASSLAND['TaxonCode'].nunique()\n",
    "print(number_0f_unique_TaxonCode)\n",
    "\n",
    "number_0f_unique_AOU_Code  = combined_df_GRASSLAND['AOU_Code'].nunique()\n",
    "print(number_0f_unique_AOU_Code)"
   ]
  },
  {
   "cell_type": "code",
   "execution_count": 13,
   "id": "5c5685c6",
   "metadata": {},
   "outputs": [],
   "source": [
    "# filling the AcceptedTSN with 997805 and changing all float datatypes to int \n",
    "combined_df_GRASSLAND['AcceptedTSN'] = combined_df_GRASSLAND['AcceptedTSN'].fillna(997805)\n",
    "combined_df_GRASSLAND['AcceptedTSN'] = combined_df_GRASSLAND['AcceptedTSN'].round(0).astype(int)"
   ]
  },
  {
   "cell_type": "code",
   "execution_count": 14,
   "id": "486453b5",
   "metadata": {},
   "outputs": [],
   "source": [
    "#filling the TaxonCode with 0 \n",
    "combined_df_GRASSLAND['TaxonCode'] = combined_df_GRASSLAND['TaxonCode'].fillna(0)"
   ]
  },
  {
   "cell_type": "code",
   "execution_count": 15,
   "id": "8f672d53",
   "metadata": {},
   "outputs": [
    {
     "name": "stdout",
     "output_type": "stream",
     "text": [
      "<class 'pandas.core.frame.DataFrame'>\n",
      "Index: 6826 entries, 0 to 8521\n",
      "Data columns (total 29 columns):\n",
      " #   Column                       Non-Null Count  Dtype         \n",
      "---  ------                       --------------  -----         \n",
      " 0   Admin_Unit_Code              6826 non-null   object        \n",
      " 1   Plot_Name                    6826 non-null   object        \n",
      " 2   Location_Type                6826 non-null   object        \n",
      " 3   Year                         6826 non-null   float64       \n",
      " 4   Date                         6826 non-null   datetime64[ns]\n",
      " 5   Start_Time                   6826 non-null   object        \n",
      " 6   End_Time                     6826 non-null   object        \n",
      " 7   Observer                     6826 non-null   object        \n",
      " 8   Visit                        6826 non-null   int32         \n",
      " 9   Interval_Length              6826 non-null   object        \n",
      " 10  ID_Method                    6826 non-null   object        \n",
      " 11  Distance                     6826 non-null   object        \n",
      " 12  Flyover_Observed             6826 non-null   object        \n",
      " 13  Sex                          6826 non-null   object        \n",
      " 14  Common_Name                  6826 non-null   object        \n",
      " 15  Scientific_Name              6826 non-null   object        \n",
      " 16  AcceptedTSN                  6826 non-null   int32         \n",
      " 17  TaxonCode                    6826 non-null   float64       \n",
      " 18  AOU_Code                     6826 non-null   object        \n",
      " 19  PIF_Watchlist_Status         6826 non-null   object        \n",
      " 20  Regional_Stewardship_Status  6826 non-null   object        \n",
      " 21  Temperature                  6826 non-null   float64       \n",
      " 22  Humidity                     6826 non-null   float64       \n",
      " 23  Sky                          6826 non-null   object        \n",
      " 24  Wind                         6826 non-null   object        \n",
      " 25  Disturbance                  6826 non-null   object        \n",
      " 26  Previously_Obs               6826 non-null   object        \n",
      " 27  Initial_Three_Min_Cnt        6826 non-null   object        \n",
      " 28  Season                       6826 non-null   object        \n",
      "dtypes: datetime64[ns](1), float64(4), int32(2), object(22)\n",
      "memory usage: 1.5+ MB\n"
     ]
    }
   ],
   "source": [
    "combined_df_GRASSLAND.info()"
   ]
  },
  {
   "cell_type": "code",
   "execution_count": 16,
   "id": "958e32c2",
   "metadata": {},
   "outputs": [
    {
     "data": {
      "text/plain": [
       "0"
      ]
     },
     "execution_count": 16,
     "metadata": {},
     "output_type": "execute_result"
    }
   ],
   "source": [
    "#check for duplicates and print the total dupes\n",
    "no_of_dupes=combined_df_GRASSLAND.duplicated().sum()\n",
    "no_of_dupes"
   ]
  },
  {
   "cell_type": "code",
   "execution_count": 17,
   "id": "acdf1ac6",
   "metadata": {},
   "outputs": [],
   "source": [
    "# writing the cleaned dataframe into csv file\n",
    "combined_df_GRASSLAND.to_csv(\"_Cleaned_GRASSLAND_df_.csv\",index=False)"
   ]
  }
 ],
 "metadata": {
  "kernelspec": {
   "display_name": "base",
   "language": "python",
   "name": "python3"
  },
  "language_info": {
   "codemirror_mode": {
    "name": "ipython",
    "version": 3
   },
   "file_extension": ".py",
   "mimetype": "text/x-python",
   "name": "python",
   "nbconvert_exporter": "python",
   "pygments_lexer": "ipython3",
   "version": "3.12.7"
  }
 },
 "nbformat": 4,
 "nbformat_minor": 5
}
